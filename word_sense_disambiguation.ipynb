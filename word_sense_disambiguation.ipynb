{
 "cells": [
  {
   "cell_type": "code",
   "execution_count": 1,
   "id": "5839d629",
   "metadata": {},
   "outputs": [],
   "source": [
    "x=\"Sunrise (or sunup) is the moment when the upper rim of the Sun appears on the horizon in the morning,[1] at the start of the Sun path. The term can also refer to the entire process of the solar disk crossing the horizon.\""
   ]
  },
  {
   "cell_type": "code",
   "execution_count": 7,
   "id": "e9dbca5f",
   "metadata": {},
   "outputs": [],
   "source": [
    "y=\"A computer mouse (plural mice; rarely also mouses)[nb 1] is a hand-held pointing device that detects two-dimensional motion relative to a surface. This motion is typically translated into the motion of the pointer (called a cursor) on a display, which allows a smooth control of the graphical user interface of a computer.\""
   ]
  },
  {
   "cell_type": "code",
   "execution_count": 2,
   "id": "c0cf3fa1",
   "metadata": {},
   "outputs": [],
   "source": [
    "from nltk.wsd import lesk\n",
    "from nltk.tokenize import word_tokenize"
   ]
  },
  {
   "cell_type": "code",
   "execution_count": 4,
   "id": "790fcfab",
   "metadata": {},
   "outputs": [],
   "source": [
    "l=lesk(word_tokenize(x),'sun')"
   ]
  },
  {
   "cell_type": "code",
   "execution_count": 5,
   "id": "b2a4d096",
   "metadata": {},
   "outputs": [
    {
     "data": {
      "text/plain": [
       "Synset('sun.n.01')"
      ]
     },
     "execution_count": 5,
     "metadata": {},
     "output_type": "execute_result"
    }
   ],
   "source": [
    "l"
   ]
  },
  {
   "cell_type": "code",
   "execution_count": 6,
   "id": "931ad191",
   "metadata": {},
   "outputs": [
    {
     "data": {
      "text/plain": [
       "'the star that is the source of light and heat for the planets in the solar system'"
      ]
     },
     "execution_count": 6,
     "metadata": {},
     "output_type": "execute_result"
    }
   ],
   "source": [
    "l.definition()"
   ]
  },
  {
   "cell_type": "code",
   "execution_count": 8,
   "id": "5bb7ba09",
   "metadata": {},
   "outputs": [],
   "source": [
    "lk=lesk(word_tokenize(y),'mouse')"
   ]
  },
  {
   "cell_type": "code",
   "execution_count": 9,
   "id": "7c7dbb65",
   "metadata": {},
   "outputs": [
    {
     "data": {
      "text/plain": [
       "Synset('mouse.n.04')"
      ]
     },
     "execution_count": 9,
     "metadata": {},
     "output_type": "execute_result"
    }
   ],
   "source": [
    "lk"
   ]
  },
  {
   "cell_type": "code",
   "execution_count": 10,
   "id": "e8940417",
   "metadata": {},
   "outputs": [
    {
     "data": {
      "text/plain": [
       "'a hand-operated electronic device that controls the coordinates of a cursor on your computer screen as you move it around on a pad; on the bottom of the device is a ball that rolls on the surface of the pad'"
      ]
     },
     "execution_count": 10,
     "metadata": {},
     "output_type": "execute_result"
    }
   ],
   "source": [
    "lk.definition()"
   ]
  }
 ],
 "metadata": {
  "kernelspec": {
   "display_name": "Python 3",
   "language": "python",
   "name": "python3"
  },
  "language_info": {
   "codemirror_mode": {
    "name": "ipython",
    "version": 3
   },
   "file_extension": ".py",
   "mimetype": "text/x-python",
   "name": "python",
   "nbconvert_exporter": "python",
   "pygments_lexer": "ipython3",
   "version": "3.11.5"
  }
 },
 "nbformat": 4,
 "nbformat_minor": 5
}
