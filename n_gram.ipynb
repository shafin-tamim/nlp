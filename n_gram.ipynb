{
 "cells": [
  {
   "cell_type": "code",
   "execution_count": 1,
   "id": "ca005fe1",
   "metadata": {},
   "outputs": [],
   "source": [
    "x= \"i am shafin Tamim i am a student of CSE i am a good person i am shafin Tamim i am a student of CSE i am a good person\""
   ]
  },
  {
   "cell_type": "code",
   "execution_count": 2,
   "id": "dbfb3124",
   "metadata": {},
   "outputs": [],
   "source": [
    "from nltk.tokenize import word_tokenize"
   ]
  },
  {
   "cell_type": "code",
   "execution_count": 4,
   "id": "9f6c7f76",
   "metadata": {},
   "outputs": [
    {
     "data": {
      "text/plain": [
       "['i',\n",
       " 'am',\n",
       " 'shafin',\n",
       " 'Tamim',\n",
       " 'i',\n",
       " 'am',\n",
       " 'a',\n",
       " 'student',\n",
       " 'of',\n",
       " 'CSE',\n",
       " 'i',\n",
       " 'am',\n",
       " 'a',\n",
       " 'good',\n",
       " 'person',\n",
       " 'i',\n",
       " 'am',\n",
       " 'shafin',\n",
       " 'Tamim',\n",
       " 'i',\n",
       " 'am',\n",
       " 'a',\n",
       " 'student',\n",
       " 'of',\n",
       " 'CSE',\n",
       " 'i',\n",
       " 'am',\n",
       " 'a',\n",
       " 'good',\n",
       " 'person']"
      ]
     },
     "execution_count": 4,
     "metadata": {},
     "output_type": "execute_result"
    }
   ],
   "source": [
    "wt= word_tokenize(x)\n",
    "wt"
   ]
  },
  {
   "cell_type": "code",
   "execution_count": 12,
   "id": "51cbb143",
   "metadata": {},
   "outputs": [],
   "source": [
    "from nltk.collocations import BigramCollocationFinder,TrigramCollocationFinder,ngrams"
   ]
  },
  {
   "cell_type": "code",
   "execution_count": 23,
   "id": "d37f61ed",
   "metadata": {},
   "outputs": [],
   "source": [
    "b= BigramCollocationFinder.from_words(wt)\n",
    "t= TrigramCollocationFinder.from_words(wt)\n",
    "n =ngrams(wt, 2)"
   ]
  },
  {
   "cell_type": "code",
   "execution_count": 17,
   "id": "d7f677ef",
   "metadata": {},
   "outputs": [
    {
     "data": {
      "text/plain": [
       "dict_keys([('i', 'am'), ('am', 'shafin'), ('shafin', 'Tamim'), ('Tamim', 'i'), ('am', 'a'), ('a', 'student'), ('student', 'of'), ('of', 'CSE'), ('CSE', 'i'), ('a', 'good'), ('good', 'person'), ('person', 'i')])"
      ]
     },
     "execution_count": 17,
     "metadata": {},
     "output_type": "execute_result"
    }
   ],
   "source": [
    "b.ngram_fd.keys()"
   ]
  },
  {
   "cell_type": "code",
   "execution_count": 16,
   "id": "f019a9b0",
   "metadata": {},
   "outputs": [
    {
     "data": {
      "text/plain": [
       "FreqDist({('i', 'am', 'a'): 4, ('i', 'am', 'shafin'): 2, ('am', 'shafin', 'Tamim'): 2, ('shafin', 'Tamim', 'i'): 2, ('Tamim', 'i', 'am'): 2, ('am', 'a', 'student'): 2, ('a', 'student', 'of'): 2, ('student', 'of', 'CSE'): 2, ('of', 'CSE', 'i'): 2, ('CSE', 'i', 'am'): 2, ...})"
      ]
     },
     "execution_count": 16,
     "metadata": {},
     "output_type": "execute_result"
    }
   ],
   "source": [
    "t.ngram_fd"
   ]
  },
  {
   "cell_type": "code",
   "execution_count": 24,
   "id": "0620867d",
   "metadata": {},
   "outputs": [
    {
     "name": "stdout",
     "output_type": "stream",
     "text": [
      "('i', 'am')\n",
      "('am', 'shafin')\n",
      "('shafin', 'Tamim')\n",
      "('Tamim', 'i')\n",
      "('i', 'am')\n",
      "('am', 'a')\n",
      "('a', 'student')\n",
      "('student', 'of')\n",
      "('of', 'CSE')\n",
      "('CSE', 'i')\n",
      "('i', 'am')\n",
      "('am', 'a')\n",
      "('a', 'good')\n",
      "('good', 'person')\n",
      "('person', 'i')\n",
      "('i', 'am')\n",
      "('am', 'shafin')\n",
      "('shafin', 'Tamim')\n",
      "('Tamim', 'i')\n",
      "('i', 'am')\n",
      "('am', 'a')\n",
      "('a', 'student')\n",
      "('student', 'of')\n",
      "('of', 'CSE')\n",
      "('CSE', 'i')\n",
      "('i', 'am')\n",
      "('am', 'a')\n",
      "('a', 'good')\n",
      "('good', 'person')\n"
     ]
    }
   ],
   "source": [
    "for i in n:\n",
    "    print(i)"
   ]
  },
  {
   "cell_type": "code",
   "execution_count": null,
   "id": "7dc2a7da",
   "metadata": {},
   "outputs": [],
   "source": []
  }
 ],
 "metadata": {
  "kernelspec": {
   "display_name": "Python 3",
   "language": "python",
   "name": "python3"
  },
  "language_info": {
   "codemirror_mode": {
    "name": "ipython",
    "version": 3
   },
   "file_extension": ".py",
   "mimetype": "text/x-python",
   "name": "python",
   "nbconvert_exporter": "python",
   "pygments_lexer": "ipython3",
   "version": "3.11.5"
  }
 },
 "nbformat": 4,
 "nbformat_minor": 5
}
